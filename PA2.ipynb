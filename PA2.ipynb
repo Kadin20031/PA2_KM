{
 "cells": [
  {
   "cell_type": "markdown",
   "id": "11ec73d7",
   "metadata": {},
   "source": [
    "# Programming assigment 2 \n",
    "## Author: Kadin McWilliams \n",
    "## Version 1 \n",
    "## CS 150 Fall 2023"
   ]
  },
  {
   "cell_type": "markdown",
   "id": "0bb001cf",
   "metadata": {},
   "source": [
    "### Task 1: Personal Information"
   ]
  },
  {
   "cell_type": "code",
   "execution_count": 11,
   "id": "1f114499",
   "metadata": {},
   "outputs": [
    {
     "name": "stdout",
     "output_type": "stream",
     "text": [
      "Hello my name is Kadin, I am 20 years old and I am 188cm tall. My favorite color is also red.\n"
     ]
    }
   ],
   "source": [
    "name =\"Kadin\"\n",
    "age=20\n",
    "height=188\n",
    "favColor=\"red\"\n",
    "\n",
    "print(f\"Hello my name is {name}, I am {age} years old and I am {height}cm tall. My favorite color is also {favColor}.\")\n"
   ]
  },
  {
   "cell_type": "markdown",
   "id": "89b44f26",
   "metadata": {},
   "source": [
    "### Task 2: Temperature Conversion"
   ]
  },
  {
   "cell_type": "code",
   "execution_count": 12,
   "id": "46d75d40",
   "metadata": {},
   "outputs": [
    {
     "name": "stdout",
     "output_type": "stream",
     "text": [
      "The Temperature is 52°C, which is 125.6°F\n"
     ]
    }
   ],
   "source": [
    "celsius_temp=52\n",
    "fahrenheit=(celsius_temp*9/5)+32\n",
    "print(f\"The Temperature is {celsius_temp}°C, which is {fahrenheit}°F\")"
   ]
  },
  {
   "cell_type": "markdown",
   "id": "8f6a3662",
   "metadata": {},
   "source": [
    "### Task 3: Simple Calculator"
   ]
  },
  {
   "cell_type": "code",
   "execution_count": 14,
   "id": "056169a6",
   "metadata": {},
   "outputs": [
    {
     "name": "stdout",
     "output_type": "stream",
     "text": [
      "1079\n",
      "-611\n",
      "197730\n",
      "0.27692307692307694\n"
     ]
    }
   ],
   "source": [
    "num1=234\n",
    "num2=845\n",
    "print(num1+num2)\n",
    "print(num1-num2)\n",
    "print(num1*num2)\n",
    "print(num1/num2) "
   ]
  },
  {
   "cell_type": "markdown",
   "id": "162cde88",
   "metadata": {},
   "source": [
    "### Task 4: String Manipulation"
   ]
  },
  {
   "cell_type": "code",
   "execution_count": 22,
   "id": "bd33ecf6",
   "metadata": {},
   "outputs": [
    {
     "name": "stdout",
     "output_type": "stream",
     "text": [
      "71\n",
      " IS IT BETTER TO BE BORN OF GOOD NATURE OR OVER COME THE EVIL WITH IN? \n",
      " is it better to be born of good nature or over come the evil with in? \n",
      "Is it better to be born of good nature or over come the evil with in?\n",
      " Is\n",
      " it\n",
      " better\n",
      " to\n",
      " be\n",
      " born\n",
      " of\n",
      " good\n",
      " nature\n",
      " or\n",
      " over\n",
      " come\n",
      " the\n",
      " evil\n",
      " with\n",
      " in?\n",
      " \n"
     ]
    }
   ],
   "source": [
    "quote=\" Is it better to be born of good nature or over come the evil with in? \"\n",
    "print(len(quote))\n",
    "print(quote.upper())\n",
    "print(quote.lower())\n",
    "print(quote.strip())\n",
    "print(\" Is\\n it\\n better\\n to\\n be\\n born\\n of\\n good\\n nature\\n or\\n over\\n come\\n the\\n evil\\n with\\n in?\\n \")"
   ]
  },
  {
   "cell_type": "markdown",
   "id": "2e9dedfe",
   "metadata": {},
   "source": [
    "### Task 5: User Input and Integer Operations "
   ]
  },
  {
   "cell_type": "code",
   "execution_count": 30,
   "id": "5d90aa61",
   "metadata": {},
   "outputs": [
    {
     "name": "stdout",
     "output_type": "stream",
     "text": [
      "input first integer: 23\n",
      "input second integer: 43\n",
      "66\n",
      "-20\n",
      "989\n",
      "0.5348837209302325\n"
     ]
    }
   ],
   "source": [
    "num1=int(input(\"input first integer: \"))\n",
    "num2=int(input(\"input second integer: \"))\n",
    "print(num1+num2)\n",
    "print(num1 - num2)\n",
    "print(num1*num2)\n",
    "print(num1/num2) \n"
   ]
  }
 ],
 "metadata": {
  "kernelspec": {
   "display_name": "Python 3 (ipykernel)",
   "language": "python",
   "name": "python3"
  },
  "language_info": {
   "codemirror_mode": {
    "name": "ipython",
    "version": 3
   },
   "file_extension": ".py",
   "mimetype": "text/x-python",
   "name": "python",
   "nbconvert_exporter": "python",
   "pygments_lexer": "ipython3",
   "version": "3.11.4"
  }
 },
 "nbformat": 4,
 "nbformat_minor": 5
}
